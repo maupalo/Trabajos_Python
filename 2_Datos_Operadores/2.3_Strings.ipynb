{
 "cells": [
  {
   "cell_type": "markdown",
   "metadata": {},
   "source": [
    "# <font color=\"00AAAA\">**2.3 Textos o Cadenas de Caracteres**</font>\n",
    "### **Consisten en secuencias de caracteres dentro de comillas. En Python las variables *Strings* se pueden declarar indistintamente usando comillas simples (' ') o dobles (\" \").**"
   ]
  },
  {
   "cell_type": "code",
   "execution_count": 1,
   "metadata": {},
   "outputs": [
    {
     "data": {
      "text/plain": [
       "'Esto es un String'"
      ]
     },
     "execution_count": 1,
     "metadata": {},
     "output_type": "execute_result"
    }
   ],
   "source": [
    "\"Esto es un String\""
   ]
  },
  {
   "cell_type": "code",
   "execution_count": 2,
   "metadata": {},
   "outputs": [
    {
     "data": {
      "text/plain": [
       "'Este texto es uno distinto'"
      ]
     },
     "execution_count": 2,
     "metadata": {},
     "output_type": "execute_result"
    }
   ],
   "source": [
    "'Este texto es uno distinto'"
   ]
  },
  {
   "cell_type": "code",
   "execution_count": 3,
   "metadata": {},
   "outputs": [],
   "source": [
    "nombre=\"Héctor\"\n",
    "carrera=\"Sistemas Computacionales\""
   ]
  },
  {
   "cell_type": "code",
   "execution_count": 4,
   "metadata": {},
   "outputs": [
    {
     "data": {
      "text/plain": [
       "str"
      ]
     },
     "execution_count": 4,
     "metadata": {},
     "output_type": "execute_result"
    }
   ],
   "source": [
    "type(nombre)"
   ]
  },
  {
   "cell_type": "code",
   "execution_count": 6,
   "metadata": {},
   "outputs": [
    {
     "data": {
      "text/plain": [
       "('Héctor', 'Sistemas Computacionales')"
      ]
     },
     "execution_count": 6,
     "metadata": {},
     "output_type": "execute_result"
    }
   ],
   "source": [
    "nombre,carrera"
   ]
  },
  {
   "cell_type": "code",
   "execution_count": 7,
   "metadata": {},
   "outputs": [
    {
     "name": "stdout",
     "output_type": "stream",
     "text": [
      "Héctor\n",
      "Sistemas Computacionales\n"
     ]
    }
   ],
   "source": [
    "print(nombre)\n",
    "print(carrera)"
   ]
  },
  {
   "cell_type": "markdown",
   "metadata": {},
   "source": [
    "# <font color=\"00AAAA\">***print()***</font>\n",
    "\n",
    "### **Esta función nos permite mostrar en pantalla un texto y editar su presentación con tabulaciones y saltos de línea.**"
   ]
  },
  {
   "cell_type": "code",
   "execution_count": 8,
   "metadata": {},
   "outputs": [
    {
     "name": "stdout",
     "output_type": "stream",
     "text": [
      "Una cadena \tseparada por una tabulación.\n"
     ]
    }
   ],
   "source": [
    "print(\"Una cadena \\tseparada por una tabulación.\")"
   ]
  },
  {
   "cell_type": "code",
   "execution_count": 10,
   "metadata": {},
   "outputs": [
    {
     "name": "stdout",
     "output_type": "stream",
     "text": [
      "Una cadena en una línea \n",
      "Una cadena en otra línea\n"
     ]
    }
   ],
   "source": [
    "print(\"Una cadena en una línea \\nUna cadena en otra línea\")"
   ]
  },
  {
   "cell_type": "markdown",
   "metadata": {},
   "source": [
    "### **Para que una función print nos muestre una cadena sin procesar debemos indicarle que la cadena es de tipo crudo, agregando la letra r antes de abrir comillas.\"**"
   ]
  },
  {
   "cell_type": "code",
   "execution_count": 11,
   "metadata": {},
   "outputs": [
    {
     "name": "stdout",
     "output_type": "stream",
     "text": [
      "c:\n",
      "ombre\n",
      "ombre2\n"
     ]
    }
   ],
   "source": [
    "print(\"c:\\nombre\\nombre2\")"
   ]
  },
  {
   "cell_type": "code",
   "execution_count": 12,
   "metadata": {},
   "outputs": [
    {
     "name": "stdout",
     "output_type": "stream",
     "text": [
      "c:\\nombre\\nombre_2\n"
     ]
    }
   ],
   "source": [
    "print(r\"c:\\nombre\\nombre_2\")"
   ]
  },
  {
   "cell_type": "markdown",
   "metadata": {},
   "source": [
    "### **También podemos indicarle que deseamos mostrar el texto en varias líneas de la siguiente forma:**"
   ]
  },
  {
   "cell_type": "code",
   "execution_count": 13,
   "metadata": {},
   "outputs": [
    {
     "name": "stdout",
     "output_type": "stream",
     "text": [
      "Línea 1 es esta\n",
      "y aquí tenemos la línea 2\n",
      "y esta es la línea 3\n",
      "y así...\n",
      "así\n",
      "al infinito\n"
     ]
    }
   ],
   "source": [
    "print(\"\"\"Línea 1 es esta\n",
    "y aquí tenemos la línea 2\n",
    "y esta es la línea 3\n",
    "y así...\n",
    "así\n",
    "al infinito\"\"\")"
   ]
  }
 ],
 "metadata": {
  "kernelspec": {
   "display_name": "Python 3",
   "language": "python",
   "name": "python3"
  },
  "language_info": {
   "codemirror_mode": {
    "name": "ipython",
    "version": 3
   },
   "file_extension": ".py",
   "mimetype": "text/x-python",
   "name": "python",
   "nbconvert_exporter": "python",
   "pygments_lexer": "ipython3",
   "version": "3.12.3"
  }
 },
 "nbformat": 4,
 "nbformat_minor": 2
}
