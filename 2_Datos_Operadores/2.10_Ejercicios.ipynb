{
 "cells": [
  {
   "cell_type": "code",
   "execution_count": null,
   "metadata": {},
   "outputs": [],
   "source": []
  },
  {
   "cell_type": "markdown",
   "metadata": {},
   "source": [
    "### **1) Define una variable edad y asígnale un valor entero.**\n",
    "\n",
    "* Muestra su valor en pantalla.\n",
    "* Define otra variable edad_cadena que contenga el valor de edad como una cadena de caracteres\n",
    "* Comprueba el tipo de la nueva variable.\n",
    "* Utiliza la variable edad que definiste previamente y calcula la edad que tendría esa persona en el año 2035."
   ]
  },
  {
   "cell_type": "code",
   "execution_count": 4,
   "metadata": {},
   "outputs": [
    {
     "name": "stdout",
     "output_type": "stream",
     "text": [
      "23\n",
      "23 <class 'str'>\n",
      "34\n"
     ]
    }
   ],
   "source": [
    "edad = 23\n",
    "print(edad)\n",
    "edad_cadena=str(edad)\n",
    "print(edad_cadena,type(edad_cadena))\n",
    "edad_2035=edad+(2035-2024)\n",
    "print(edad_2035)"
   ]
  },
  {
   "cell_type": "markdown",
   "metadata": {},
   "source": [
    "### **Al realizar una consulta en un registro, hemos recibido unos calores corruptos. Al parecer entrega el nombre del alumno al revés. ¿Qué se puede hacer para obtener el siguiente mensaje en pantalla?\n",
    "### NOMBRE APELLIDO ha obtenido un NOTA"
   ]
  },
  {
   "cell_type": "code",
   "execution_count": 11,
   "metadata": {},
   "outputs": [
    {
     "name": "stdout",
     "output_type": "stream",
     "text": [
      "zeréP aíraM ha sacado un 79\n",
      "aíraM zeréP ha sacado un 79\n",
      "aíraM zeréP ha sacado un 79\n",
      "aíraM zeréP ha sacado un 79\n"
     ]
    }
   ],
   "source": [
    "nombre=\"aíraM\"\n",
    "apellido=\"zeréP\"\n",
    "nota=79\n",
    "print('{} {} ha sacado un {}'.format(apellido,nombre,nota))\n",
    "print('{1} {0} ha sacado un {2}'.format(apellido,nombre,nota))\n",
    "print('{} {} ha sacado un {}'.format(nombre,apellido,nota))\n",
    "print(f'{nombre} {apellido} ha sacado un {nota}')"
   ]
  },
  {
   "cell_type": "markdown",
   "metadata": {},
   "source": [
    "### **Utilizando operadores lógicos determina si una cadena de texto introducidad por el usuario tiene una longitud mayor o igual a 3 y menor o igual a 12 (Basta con mostrar True o False)**"
   ]
  },
  {
   "cell_type": "code",
   "execution_count": 23,
   "metadata": {},
   "outputs": [
    {
     "name": "stdout",
     "output_type": "stream",
     "text": [
      "1\n",
      "False\n"
     ]
    }
   ],
   "source": [
    "cadena=input(\"Introduzca un texto: \")\n",
    "length = cadena.__len__()\n",
    "print(length)\n",
    "print(length>=3 and length<=12)"
   ]
  },
  {
   "cell_type": "markdown",
   "metadata": {},
   "source": [
    "### **Realiza un programa que lea 2 números por medio del teclado y determine los siguientes aspectos (es suficiente con mostrar True o False)**\n",
    "* Si los dos números son iguales\n",
    "* Si los dos números son diferentes\n",
    "* Si el primero es mayor al segundo\n",
    "* Si el segundo es mayor o igual que el primero"
   ]
  },
  {
   "cell_type": "code",
   "execution_count": 27,
   "metadata": {},
   "outputs": [
    {
     "name": "stdout",
     "output_type": "stream",
     "text": [
      "Son iguales: False\n",
      "1.0==2.0\n",
      "Son diferentes: True\n",
      "El primero es mayor al segundo: False\n",
      "El segundo es mayor o igual que el primero: True\n"
     ]
    }
   ],
   "source": [
    "num1=float(input(\"Ingrese el primer número\"))\n",
    "num2=float(input(\"Ingrese el segundo número\"))\n",
    "\n",
    "print(\"Son iguales:\", num1==num2)\n",
    "print(\"Son diferentes:\", num1!=num2)\n",
    "print(\"El primero es mayor al segundo:\", num1>num2)\n",
    "print(\"El segundo es mayor o igual que el primero:\", num1<=num2)"
   ]
  }
 ],
 "metadata": {
  "kernelspec": {
   "display_name": "Python 3",
   "language": "python",
   "name": "python3"
  },
  "language_info": {
   "codemirror_mode": {
    "name": "ipython",
    "version": 3
   },
   "file_extension": ".py",
   "mimetype": "text/x-python",
   "name": "python",
   "nbconvert_exporter": "python",
   "pygments_lexer": "ipython3",
   "version": "3.12.3"
  }
 },
 "nbformat": 4,
 "nbformat_minor": 2
}
