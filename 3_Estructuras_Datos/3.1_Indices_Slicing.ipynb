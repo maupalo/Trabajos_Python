{
 "cells": [
  {
   "cell_type": "markdown",
   "metadata": {},
   "source": [
    "# <font color=\"00AAAA\">**3.1 Índices y Slicing**</font>\n",
    "### **Los índices son números ordenados esociados a las variables que nos permiten identificar los elementos por su posición.**\n",
    "### **Por ejemplo, cada elemento de una cadena tiene su propio índice.**"
   ]
  },
  {
   "cell_type": "code",
   "execution_count": 2,
   "metadata": {},
   "outputs": [],
   "source": [
    "texto = 'ESTA-CADENA'"
   ]
  },
  {
   "cell_type": "markdown",
   "metadata": {},
   "source": [
    "### **El primer elemento siempre tiene el índice 0 de manera predeterminada**"
   ]
  },
  {
   "cell_type": "code",
   "execution_count": 3,
   "metadata": {},
   "outputs": [
    {
     "name": "stdout",
     "output_type": "stream",
     "text": [
      "E S T A\n"
     ]
    }
   ],
   "source": [
    "print(texto[0],texto[1],texto[2],texto[3])"
   ]
  },
  {
   "cell_type": "markdown",
   "metadata": {},
   "source": [
    "### **También a causa de esto, el índice del último elemento se diferencía del número total de elementos por una unidad.**\n",
    "\n",
    "*[texto[0],texto[1],...texto[n-3],texto[n-2],texto[n-1]]*"
   ]
  },
  {
   "cell_type": "code",
   "execution_count": 5,
   "metadata": {},
   "outputs": [
    {
     "name": "stdout",
     "output_type": "stream",
     "text": [
      "C A D E N A\n"
     ]
    }
   ],
   "source": [
    "print(texto[5],texto[6],texto[7],texto[8],texto[9],texto[10])"
   ]
  },
  {
   "cell_type": "markdown",
   "metadata": {},
   "source": [
    "### **Para cada elemento también existe un índice inverso que realiza una numeración desde el último elemento hasta el primero, comenzando la cuenta con -1**"
   ]
  },
  {
   "cell_type": "code",
   "execution_count": 6,
   "metadata": {},
   "outputs": [
    {
     "name": "stdout",
     "output_type": "stream",
     "text": [
      "C A D E N A\n"
     ]
    }
   ],
   "source": [
    "# -6 \\ -5 \\ -4 \\ -3 \\ -2 \\ -1\n",
    "#  C    A    D    E    N    A\n",
    "#  5 \\  6 \\  7 \\  8 \\  9 \\ 10\n",
    "\n",
    "print(texto[-6],texto[-5],texto[-4],texto[-3],texto[-2],texto[-1])"
   ]
  },
  {
   "cell_type": "markdown",
   "metadata": {},
   "source": [
    "### **Gracias a los índices podemos seleccionar una secuencia de elementos de una variable. Esto se conoce como *Slicing*.**\n",
    "\n",
    "### **La secuencia de elementos la definimos con el formato *[ a : b ]*. Esto es un ranfo de valores, el cual, nos devuelve por slicing desde el elemento a hasta el elemento previo al b, dadno por conscuendia que b se considere excluido del rango seleccionado.**\n",
    "\n",
    ">### **Nota:** Cuando un rango de valores excluye alguno de sus límites (siendo a el límite inferior y b el límite superior), se dice que el rango es abierto:\n",
    ">* Abierto por la derecha (se excluye b del rango)\n",
    ">* Abierto por la izquierda (se excluye a del rango)"
   ]
  },
  {
   "cell_type": "code",
   "execution_count": 7,
   "metadata": {},
   "outputs": [
    {
     "data": {
      "text/plain": [
       "'EST'"
      ]
     },
     "execution_count": 7,
     "metadata": {},
     "output_type": "execute_result"
    }
   ],
   "source": [
    "texto[0:3]"
   ]
  },
  {
   "cell_type": "code",
   "execution_count": 8,
   "metadata": {},
   "outputs": [
    {
     "data": {
      "text/plain": [
       "''"
      ]
     },
     "execution_count": 8,
     "metadata": {},
     "output_type": "execute_result"
    }
   ],
   "source": [
    "texto[-6:0]"
   ]
  },
  {
   "cell_type": "markdown",
   "metadata": {},
   "source": [
    "### **Podemos omitir especificar alguno de los límites:**\n",
    "\n",
    "* Si omitimos a ([:b]), el rango comenzará desde el índice 0. (equivale a escribir [0:b])\n",
    "* Si omitimos b ([a:]), el rango teminará la secuencia con el último elemento. (equivalente a escribir [a:(n-1)])"
   ]
  },
  {
   "cell_type": "code",
   "execution_count": 9,
   "metadata": {},
   "outputs": [
    {
     "data": {
      "text/plain": [
       "'CADEN'"
      ]
     },
     "execution_count": 9,
     "metadata": {},
     "output_type": "execute_result"
    }
   ],
   "source": [
    "texto[-6:-1]"
   ]
  },
  {
   "cell_type": "code",
   "execution_count": 10,
   "metadata": {},
   "outputs": [
    {
     "data": {
      "text/plain": [
       "'CADENA'"
      ]
     },
     "execution_count": 10,
     "metadata": {},
     "output_type": "execute_result"
    }
   ],
   "source": [
    "texto[-6:]"
   ]
  },
  {
   "cell_type": "code",
   "execution_count": 11,
   "metadata": {},
   "outputs": [
    {
     "data": {
      "text/plain": [
       "'ESTA'"
      ]
     },
     "execution_count": 11,
     "metadata": {},
     "output_type": "execute_result"
    }
   ],
   "source": [
    "texto[:4]"
   ]
  },
  {
   "cell_type": "code",
   "execution_count": 12,
   "metadata": {},
   "outputs": [
    {
     "data": {
      "text/plain": [
       "'A-CA'"
      ]
     },
     "execution_count": 12,
     "metadata": {},
     "output_type": "execute_result"
    }
   ],
   "source": [
    "texto[3:7]"
   ]
  }
 ],
 "metadata": {
  "kernelspec": {
   "display_name": "Python 3",
   "language": "python",
   "name": "python3"
  },
  "language_info": {
   "codemirror_mode": {
    "name": "ipython",
    "version": 3
   },
   "file_extension": ".py",
   "mimetype": "text/x-python",
   "name": "python",
   "nbconvert_exporter": "python",
   "pygments_lexer": "ipython3",
   "version": "3.12.3"
  }
 },
 "nbformat": 4,
 "nbformat_minor": 2
}
