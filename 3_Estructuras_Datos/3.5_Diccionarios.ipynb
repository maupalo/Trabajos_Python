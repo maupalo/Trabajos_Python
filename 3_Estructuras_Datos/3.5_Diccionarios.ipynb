{
 "cells": [
  {
   "cell_type": "markdown",
   "metadata": {},
   "source": [
    "# <font color=\"00AAAA\">**3.5 Diccionarios**</font>\n",
    "\n",
    "### **Son colecciones de datos semejantes a las listas.**\n",
    "### **Los diccionarios se caracterizan por:**\n",
    "\n",
    "* Definir cada elemento con una relación clave : valor\n",
    "* Las claves funcionan como índice de cada elemento (no son únicamente números)\n"
   ]
  },
  {
   "cell_type": "code",
   "execution_count": 1,
   "metadata": {},
   "outputs": [
    {
     "name": "stdout",
     "output_type": "stream",
     "text": [
      "{1: 'Nombre', 2: 'Apellido', 3: 'Profesión', 4: 'Región'}\n"
     ]
    }
   ],
   "source": [
    "colores = {'azul':'blue', 'negro':'black', 'rosa':'pink'}\n",
    "propiedades = {1:'Nombre', 2: 'Apellido', 3: 'Profesión', 4: 'Región'}\n",
    "print(propiedades)"
   ]
  },
  {
   "cell_type": "markdown",
   "metadata": {},
   "source": [
    "### **Podemos escoger entre sus elementos utilizando las claves**"
   ]
  },
  {
   "cell_type": "code",
   "execution_count": 2,
   "metadata": {},
   "outputs": [
    {
     "data": {
      "text/plain": [
       "{'azul': 'blue', 'negro': 'black', 'rosa': 'pink'}"
      ]
     },
     "execution_count": 2,
     "metadata": {},
     "output_type": "execute_result"
    }
   ],
   "source": [
    "colores"
   ]
  },
  {
   "cell_type": "code",
   "execution_count": 3,
   "metadata": {},
   "outputs": [
    {
     "data": {
      "text/plain": [
       "'black'"
      ]
     },
     "execution_count": 3,
     "metadata": {},
     "output_type": "execute_result"
    }
   ],
   "source": [
    "colores['negro']"
   ]
  },
  {
   "cell_type": "markdown",
   "metadata": {},
   "source": [
    "### **También podemos modificar los valores de sus elementos y relaizar operaciones con ellos.**"
   ]
  },
  {
   "cell_type": "code",
   "execution_count": 4,
   "metadata": {},
   "outputs": [
    {
     "name": "stdout",
     "output_type": "stream",
     "text": [
      "{'azul': 'blue', 'negro': 'noir', 'rosa': 'pink'}\n"
     ]
    }
   ],
   "source": [
    "colores['negro']='noir'\n",
    "print(colores)\n"
   ]
  },
  {
   "cell_type": "code",
   "execution_count": null,
   "metadata": {},
   "outputs": [],
   "source": [
    "colores['naranja']='orange'\n",
    "colores['blanco']='white'\n",
    "colores"
   ]
  },
  {
   "cell_type": "code",
   "execution_count": 5,
   "metadata": {},
   "outputs": [
    {
     "data": {
      "text/plain": [
       "26"
      ]
     },
     "execution_count": 5,
     "metadata": {},
     "output_type": "execute_result"
    }
   ],
   "source": [
    "edades = {\n",
    "    'Albert':24,\n",
    "    'Johel':24,\n",
    "    'Roque':26,\n",
    "    \"Victor\":27\n",
    "}\n",
    "edades['Roque']"
   ]
  },
  {
   "cell_type": "code",
   "execution_count": 10,
   "metadata": {},
   "outputs": [
    {
     "data": {
      "text/plain": [
       "{'Albert': 24, 'Johel': 29, 'Roque': 26, 'Victor': 27}"
      ]
     },
     "execution_count": 10,
     "metadata": {},
     "output_type": "execute_result"
    }
   ],
   "source": [
    "edades['Johel']+=1\n",
    "edades"
   ]
  },
  {
   "cell_type": "code",
   "execution_count": 11,
   "metadata": {},
   "outputs": [
    {
     "data": {
      "text/plain": [
       "51"
      ]
     },
     "execution_count": 11,
     "metadata": {},
     "output_type": "execute_result"
    }
   ],
   "source": [
    "edades['Albert']+edades['Victor']"
   ]
  },
  {
   "cell_type": "markdown",
   "metadata": {},
   "source": [
    "### ***Métodos***\n",
    "### **A través de un bnucle *For* podemos recorrer los elementos de un diccionario.**"
   ]
  },
  {
   "cell_type": "code",
   "execution_count": 12,
   "metadata": {},
   "outputs": [
    {
     "name": "stdout",
     "output_type": "stream",
     "text": [
      "Albert\n",
      "Johel\n",
      "Roque\n",
      "Victor\n"
     ]
    }
   ],
   "source": [
    "for c in edades:\n",
    "    print(c)"
   ]
  },
  {
   "cell_type": "markdown",
   "metadata": {},
   "source": [
    "### **EL método *items()* nos devuelve automáticamente Clave y Valor.**"
   ]
  },
  {
   "cell_type": "code",
   "execution_count": 14,
   "metadata": {},
   "outputs": [
    {
     "name": "stdout",
     "output_type": "stream",
     "text": [
      "La clave Albert tiene un valor: 24\n",
      "La clave Johel tiene un valor: 29\n",
      "La clave Roque tiene un valor: 26\n",
      "La clave Victor tiene un valor: 27\n"
     ]
    }
   ],
   "source": [
    "for c,v in edades.items():\n",
    "    print(\"La clave\",c,\"tiene un valor:\",v)"
   ]
  },
  {
   "cell_type": "markdown",
   "metadata": {},
   "source": [
    "### **El método *del()* nos permigte eliminar los valores de un DICCIONARIO.**"
   ]
  },
  {
   "cell_type": "code",
   "execution_count": 15,
   "metadata": {},
   "outputs": [
    {
     "name": "stdout",
     "output_type": "stream",
     "text": [
      "{'negro': 'noir', 'rosa': 'pink'}\n"
     ]
    }
   ],
   "source": [
    "del(colores['azul'])\n",
    "print(colores)"
   ]
  },
  {
   "cell_type": "markdown",
   "metadata": {},
   "source": [
    "### **Debemos combinar provechosamente las listas y diccionarios. Por ejemplo para crear un equipo de personajes**"
   ]
  },
  {
   "cell_type": "code",
   "execution_count": 18,
   "metadata": {},
   "outputs": [],
   "source": [
    "equipo=[]\n",
    "personajes={'Nombre':'Raskolnikov',\n",
    "'Clase':'Pícaro',\n",
    "'Nación':'Rusia'}\n"
   ]
  },
  {
   "cell_type": "code",
   "execution_count": 19,
   "metadata": {},
   "outputs": [
    {
     "name": "stdout",
     "output_type": "stream",
     "text": [
      "[{'Nombre': 'Raskolnikov', 'Clase': 'Pícaro', 'Nación': 'Rusia'}]\n"
     ]
    }
   ],
   "source": [
    "equipo.append(personajes)\n",
    "print(equipo)"
   ]
  },
  {
   "cell_type": "code",
   "execution_count": 20,
   "metadata": {},
   "outputs": [],
   "source": [
    "personajes={'Nombre':'Emma',\n",
    "'Clase':'Curandera',\n",
    "'Nación':'Francia'}\n",
    "\n",
    "equipo.append(personajes)"
   ]
  },
  {
   "cell_type": "code",
   "execution_count": 21,
   "metadata": {},
   "outputs": [],
   "source": [
    "personajes={'Nombre':'Rebeca',\n",
    "'Clase':'Banquera',\n",
    "'Nación':'Inglaterra'}\n",
    "\n",
    "equipo.append(personajes)"
   ]
  },
  {
   "cell_type": "code",
   "execution_count": 22,
   "metadata": {},
   "outputs": [
    {
     "name": "stdout",
     "output_type": "stream",
     "text": [
      "Raskolnikov , Pícaro oriundo de Rusia\n",
      "Emma , Curandera oriundo de Francia\n",
      "Rebeca , Banquera oriundo de Inglaterra\n"
     ]
    }
   ],
   "source": [
    "for e in equipo:\n",
    "    print(e['Nombre'],\",\",e['Clase'], \"oriundo de\", e['Nación'])"
   ]
  }
 ],
 "metadata": {
  "kernelspec": {
   "display_name": "Python 3",
   "language": "python",
   "name": "python3"
  },
  "language_info": {
   "codemirror_mode": {
    "name": "ipython",
    "version": 3
   },
   "file_extension": ".py",
   "mimetype": "text/x-python",
   "name": "python",
   "nbconvert_exporter": "python",
   "pygments_lexer": "ipython3",
   "version": "3.12.3"
  }
 },
 "nbformat": 4,
 "nbformat_minor": 2
}
