{
 "cells": [
  {
   "cell_type": "markdown",
   "metadata": {},
   "source": [
    "# <font color=\"00AAAA\">**Encabezados**</font>\n",
    "### **Utilice el símbolo \\# para indicar un título o subtítulo, mientras más signos \\# tenga el texto, menor su tamaño.**\n",
    "# Título 1\n",
    "## Título 2\n",
    "### Título 3\n",
    "#### Título 4\n",
    "##### Título 5\n",
    "###### Título 6"
   ]
  },
  {
   "cell_type": "markdown",
   "metadata": {},
   "source": [
    "### **Alternativamente es posible utilizarlas etiquetas HTML H1 a H6.**\n",
    "<style>\n",
    "    #titulo{\n",
    "        color:#Fa3\n",
    "    }\n",
    "</style>\n",
    "\n",
    "<h1 id=\"titulo\">Título con HTML</h1>\n",
    "<br><br>\n",
    "\n",
    "--- "
   ]
  },
  {
   "cell_type": "markdown",
   "metadata": {},
   "source": [
    "# <font color=\"00AAAA\">**Bloque de cita**</font>\n",
    "### **Utilice el símbolo > para realizar bloques de citas de texto**\n",
    ">Este es<br>un Bloque<br>de cita\n",
    "### **Alternativamente es posible utilizar la etiqueta de HTML BLOCKQUOTE (obsoleta).**\n",
    "<br><br>\n",
    "\n",
    "---"
   ]
  },
  {
   "cell_type": "markdown",
   "metadata": {},
   "source": [
    "# <font color=\"00AAAA\">**Sección de Código**</font>\n",
    "### **Utilice el símbolo \\`\\`\\` al inicio y al final del bloque de código.**\n",
    "\n",
    "```Python\n",
    "str = \"Este es un bloque de código\"\n",
    "print(str)\n",
    "```\n",
    "### **Alternativamente es posible utilizar la etiqueta de HTML CODE, sin embargo perderá el formato.**\n",
    "<br><br>\n",
    "\n",
    "---"
   ]
  },
  {
   "cell_type": "markdown",
   "metadata": {},
   "source": [
    "# <font color=\"00AAAA\">**Cursiva**</font>\n",
    "### **Para cambiar el texto a cursiva utilice el símbolo * antes y después del texto.**\n",
    "\n",
    "*Texto en Cursiva*\n",
    "<br><br>\n",
    "\n",
    "---"
   ]
  },
  {
   "cell_type": "markdown",
   "metadata": {},
   "source": [
    "# <font color=\"00AAAA\">**Negritas**</font>\n",
    "### **Para cambiar el texto a cursiva utilice el símbolo \\*\\* antes y después del texto.** \n",
    "\n",
    "**Negritas**\n",
    "\n",
    "<br><br>\n",
    "\n",
    "---"
   ]
  },
  {
   "cell_type": "markdown",
   "metadata": {},
   "source": [
    "# <font color=\"00AAAA\">**Línea Horizontal**</font>\n",
    "\n",
    "### **Para dibujar una línea horizontal utilice los símbolos ---**\n",
    "\n",
    "<br><br>\n",
    "\n",
    "---"
   ]
  },
  {
   "cell_type": "markdown",
   "metadata": {},
   "source": [
    "# <font color=\"00AAAA\">**Lista ordenada**</font>\n",
    "\n",
    "### **Para realizar una lista ordenada deberá insertar el número 1 junto con \\. para cada inciso.**\n",
    "\n",
    "1. Primer ejemplo\n",
    "1. Segundo ejemplo\n",
    "1. Tercer ejemplo\n",
    "    1. Hijo 1\n",
    "    1. Hijo 2\n",
    "    1. Hijo 3\n",
    "\n",
    "### **Alternativamente es posible utilizar la etiqueta HTML OL y LI.**\n",
    "\n",
    "<br><br>\n",
    "\n",
    "<ol>\n",
    "    <li>Primer elemento</li>\n",
    "    <li>Segundo elemento</li>\n",
    "    <li>Tercer elemento</li>\n",
    "</ol>\n",
    "<ol>\n",
    "    <li>Primer elemento</li>\n",
    "    <li>Segundo elemento</li>\n",
    "    <ol>\n",
    "        <li>Primer hijo</li>\n",
    "        <li>Segundo hijo</li>\n",
    "    </ol>    \n",
    "</ol>\n",
    "\n",
    "---"
   ]
  },
  {
   "cell_type": "markdown",
   "metadata": {},
   "source": [
    "# <font color=\"00AAAA\">**Listas No Ordenadas**</font>\n",
    "### **Para insertar una lista no ordenada se deberá de insertar el símbolo - ó + ó * al inicio de cada inciso.**\n",
    "\n",
    "- Item con \\-\n",
    "+ Item con \\+\n",
    "* Item con \\*\n",
    "    - Subitem con \\-\n",
    "    + Subitem con \\+\n",
    "    * Subitem con \\*\n",
    "\n",
    "### **Alternativamente es posible utilizar las etiquetas HTML UL y LI**\n",
    "\n",
    "<br><br>\n",
    "\n",
    "---"
   ]
  },
  {
   "cell_type": "markdown",
   "metadata": {},
   "source": [
    "# <font color=\"00AAAA\">**Links**</font>\n",
    "\n",
    "### **Para insertar un link se deberá respetar la siguiente sintaxis:**\n",
    "\n",
    "```[Texto_del_link](#id_seccion)```\n",
    "\n",
    "[Ir a Jupyter](https://jupyter.org/)\n",
    "\n",
    "### **Alternativamente es posible utilizar la etiqueta HTML A.**\n",
    "<a href=\"https://www.google.com\">Ir a Google</a>\n",
    "\n",
    "<br><br>\n",
    "\n",
    "---"
   ]
  },
  {
   "cell_type": "markdown",
   "metadata": {},
   "source": [
    "# <font color=\"00AAAA\">**Tablas**</font>\n",
    "### **Para insertar una tabla es posible utilizar el símbolo \\| como separador de columnas y el símbolo \\- para separar la primer fila del resto de la tabla de datos**\n",
    "\n",
    "|Nombre|Dirección|Salario|\n",
    "|------|---------|-------|\n",
    "|Hanna|Brisbane|4000|\n",
    "|Adam|Sydney|5000|\n",
    "|Smith|Lerdo|250|\n",
    "\n",
    "### **Alternativamente es posible utilizar las etiquetas HTML TABLE, TR, TH, y TD.**\n",
    "\n",
    "<br><br>\n",
    "\n",
    "---"
   ]
  },
  {
   "cell_type": "markdown",
   "metadata": {},
   "source": [
    "# <font color=\"00AAAA\">**Imágenes**</font>\n",
    "\n",
    "### **Para insertar una imagen es necesario seguir la siguiente sintaxis:**\n",
    "\n",
    "```![Texto_imagen](dit/imagen.extension)```\n",
    "\n",
    "![Jupyter](https://upload.wikimedia.org/wikipedia/commons/thumb/3/38/Jupyter_logo.svg/320px-Jupyter_logo.svg.png)\n",
    "\n",
    "### **Alternativamente es posible utilizar la etiqueta HTML IMG.**"
   ]
  }
 ],
 "metadata": {
  "language_info": {
   "name": "python"
  }
 },
 "nbformat": 4,
 "nbformat_minor": 2
}
